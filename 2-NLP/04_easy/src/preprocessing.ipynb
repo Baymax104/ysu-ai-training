{
 "cells": [
  {
   "metadata": {
    "ExecuteTime": {
     "end_time": "2024-07-19T11:08:55.498989Z",
     "start_time": "2024-07-19T11:08:49.390093Z"
    }
   },
   "cell_type": "code",
   "source": [
    "import pandas as pd\n",
    "import params\n",
    "import os\n",
    "import json\n",
    "import numpy as np\n",
    "from sklearn.preprocessing import MultiLabelBinarizer"
   ],
   "id": "initial_id",
   "outputs": [],
   "execution_count": 1
  },
  {
   "metadata": {
    "ExecuteTime": {
     "end_time": "2024-07-19T11:08:57.781347Z",
     "start_time": "2024-07-19T11:08:57.262331Z"
    }
   },
   "cell_type": "code",
   "source": [
    "# json to dataframe\n",
    "data = json.load(open(os.path.join(params.DATA_DIR, 'data.json'), encoding='utf-8'))\n",
    "data_df = pd.DataFrame(data)\n",
    "data_df"
   ],
   "id": "d9fdf404bdc78b76",
   "outputs": [
    {
     "data": {
      "text/plain": [
       "          id                                              title  \\\n",
       "0          0  Oxidative coupling of methane in the redox cyc...   \n",
       "1          1  Tissue engineering: strategies, stem cells and...   \n",
       "2          2  Enhancement of Forced Convection Subcooled Fil...   \n",
       "3          3  Exploiting Sheep and Goats at the Late Lengyel...   \n",
       "4          4  Simplified model for unsteady air cavities und...   \n",
       "...      ...                                                ...   \n",
       "20995  20995  Rib stability: A way forward for safe coal ext...   \n",
       "20996  20996  Accumulation Process of Distant Water Small Tr...   \n",
       "20997  20997  Thyroid volume measured by ultrasonography and...   \n",
       "20998  20998        Rethinking Leadership for the Public Sector   \n",
       "20999  20999  Referees' use of heuristics: the moderating im...   \n",
       "\n",
       "                                                abstract subject_name  \n",
       "0      The 1% CeO 2 , 9% La 2 O 3 /SiO 2 and 2% CeO 2...         [化学]  \n",
       "1      Tissue engineering scaffolds are designed to i...         [医学]  \n",
       "2      Enhancement of forced-convection boiling heat ...        [物理学]  \n",
       "3      The excavations of Late Lengyel settlement in ...        [历史学]  \n",
       "4      The drag reduction technique involving air cav...       [海洋工程]  \n",
       "...                                                  ...          ...  \n",
       "20995  Ensuring rib stability during pillar extractio...         [矿业]  \n",
       "20996  The experimental operations were carried out b...         [水产]  \n",
       "20997  To evaluate measurements of thyroid volume by ...     [核科学与技术]  \n",
       "20998  Leadership and management are best thought of ...      [公共管理学]  \n",
       "20999  The influence of players' standard of competit...        [体育学]  \n",
       "\n",
       "[21000 rows x 4 columns]"
      ],
      "text/html": [
       "<div>\n",
       "<style scoped>\n",
       "    .dataframe tbody tr th:only-of-type {\n",
       "        vertical-align: middle;\n",
       "    }\n",
       "\n",
       "    .dataframe tbody tr th {\n",
       "        vertical-align: top;\n",
       "    }\n",
       "\n",
       "    .dataframe thead th {\n",
       "        text-align: right;\n",
       "    }\n",
       "</style>\n",
       "<table border=\"1\" class=\"dataframe\">\n",
       "  <thead>\n",
       "    <tr style=\"text-align: right;\">\n",
       "      <th></th>\n",
       "      <th>id</th>\n",
       "      <th>title</th>\n",
       "      <th>abstract</th>\n",
       "      <th>subject_name</th>\n",
       "    </tr>\n",
       "  </thead>\n",
       "  <tbody>\n",
       "    <tr>\n",
       "      <th>0</th>\n",
       "      <td>0</td>\n",
       "      <td>Oxidative coupling of methane in the redox cyc...</td>\n",
       "      <td>The 1% CeO 2 , 9% La 2 O 3 /SiO 2 and 2% CeO 2...</td>\n",
       "      <td>[化学]</td>\n",
       "    </tr>\n",
       "    <tr>\n",
       "      <th>1</th>\n",
       "      <td>1</td>\n",
       "      <td>Tissue engineering: strategies, stem cells and...</td>\n",
       "      <td>Tissue engineering scaffolds are designed to i...</td>\n",
       "      <td>[医学]</td>\n",
       "    </tr>\n",
       "    <tr>\n",
       "      <th>2</th>\n",
       "      <td>2</td>\n",
       "      <td>Enhancement of Forced Convection Subcooled Fil...</td>\n",
       "      <td>Enhancement of forced-convection boiling heat ...</td>\n",
       "      <td>[物理学]</td>\n",
       "    </tr>\n",
       "    <tr>\n",
       "      <th>3</th>\n",
       "      <td>3</td>\n",
       "      <td>Exploiting Sheep and Goats at the Late Lengyel...</td>\n",
       "      <td>The excavations of Late Lengyel settlement in ...</td>\n",
       "      <td>[历史学]</td>\n",
       "    </tr>\n",
       "    <tr>\n",
       "      <th>4</th>\n",
       "      <td>4</td>\n",
       "      <td>Simplified model for unsteady air cavities und...</td>\n",
       "      <td>The drag reduction technique involving air cav...</td>\n",
       "      <td>[海洋工程]</td>\n",
       "    </tr>\n",
       "    <tr>\n",
       "      <th>...</th>\n",
       "      <td>...</td>\n",
       "      <td>...</td>\n",
       "      <td>...</td>\n",
       "      <td>...</td>\n",
       "    </tr>\n",
       "    <tr>\n",
       "      <th>20995</th>\n",
       "      <td>20995</td>\n",
       "      <td>Rib stability: A way forward for safe coal ext...</td>\n",
       "      <td>Ensuring rib stability during pillar extractio...</td>\n",
       "      <td>[矿业]</td>\n",
       "    </tr>\n",
       "    <tr>\n",
       "      <th>20996</th>\n",
       "      <td>20996</td>\n",
       "      <td>Accumulation Process of Distant Water Small Tr...</td>\n",
       "      <td>The experimental operations were carried out b...</td>\n",
       "      <td>[水产]</td>\n",
       "    </tr>\n",
       "    <tr>\n",
       "      <th>20997</th>\n",
       "      <td>20997</td>\n",
       "      <td>Thyroid volume measured by ultrasonography and...</td>\n",
       "      <td>To evaluate measurements of thyroid volume by ...</td>\n",
       "      <td>[核科学与技术]</td>\n",
       "    </tr>\n",
       "    <tr>\n",
       "      <th>20998</th>\n",
       "      <td>20998</td>\n",
       "      <td>Rethinking Leadership for the Public Sector</td>\n",
       "      <td>Leadership and management are best thought of ...</td>\n",
       "      <td>[公共管理学]</td>\n",
       "    </tr>\n",
       "    <tr>\n",
       "      <th>20999</th>\n",
       "      <td>20999</td>\n",
       "      <td>Referees' use of heuristics: the moderating im...</td>\n",
       "      <td>The influence of players' standard of competit...</td>\n",
       "      <td>[体育学]</td>\n",
       "    </tr>\n",
       "  </tbody>\n",
       "</table>\n",
       "<p>21000 rows × 4 columns</p>\n",
       "</div>"
      ]
     },
     "execution_count": 2,
     "metadata": {},
     "output_type": "execute_result"
    }
   ],
   "execution_count": 2
  },
  {
   "metadata": {
    "ExecuteTime": {
     "end_time": "2024-07-19T11:09:05.030499Z",
     "start_time": "2024-07-19T11:09:05.006367Z"
    }
   },
   "cell_type": "code",
   "source": [
    "# extract labels\n",
    "binarizer = MultiLabelBinarizer()\n",
    "label = binarizer.fit_transform(data_df['subject_name'])\n",
    "label"
   ],
   "id": "996ac1f449bc0823",
   "outputs": [
    {
     "data": {
      "text/plain": [
       "array([[0, 0, 0, ..., 0, 0, 0],\n",
       "       [0, 0, 0, ..., 0, 0, 0],\n",
       "       [0, 0, 0, ..., 0, 0, 0],\n",
       "       ...,\n",
       "       [0, 0, 0, ..., 0, 0, 0],\n",
       "       [0, 0, 0, ..., 0, 0, 0],\n",
       "       [0, 0, 0, ..., 0, 0, 0]])"
      ]
     },
     "execution_count": 3,
     "metadata": {},
     "output_type": "execute_result"
    }
   ],
   "execution_count": 3
  },
  {
   "metadata": {
    "ExecuteTime": {
     "end_time": "2024-07-19T11:09:07.951215Z",
     "start_time": "2024-07-19T11:09:07.935124Z"
    }
   },
   "cell_type": "code",
   "source": [
    "# save labels\n",
    "np.save(os.path.join(params.DATA_DIR, 'label.npy'), label)"
   ],
   "id": "cf036eeea227cd45",
   "outputs": [],
   "execution_count": 4
  },
  {
   "metadata": {
    "ExecuteTime": {
     "end_time": "2024-07-19T11:10:49.007363Z",
     "start_time": "2024-07-19T11:10:48.970900Z"
    }
   },
   "cell_type": "code",
   "source": [
    "# concatenate sentences\n",
    "data_df['sentence'] = data_df['title'] + '. ' + data_df['abstract']\n",
    "data_df.drop(columns=['title', 'abstract', 'subject_name'], inplace=True)"
   ],
   "id": "c2082da58a2ae4b1",
   "outputs": [],
   "execution_count": 9
  },
  {
   "metadata": {
    "ExecuteTime": {
     "end_time": "2024-07-19T11:10:50.381662Z",
     "start_time": "2024-07-19T11:10:50.372971Z"
    }
   },
   "cell_type": "code",
   "source": "data_df",
   "id": "303383fef4a7dd2",
   "outputs": [
    {
     "data": {
      "text/plain": [
       "          id  \\\n",
       "0          0   \n",
       "1          1   \n",
       "2          2   \n",
       "3          3   \n",
       "4          4   \n",
       "...      ...   \n",
       "20995  20995   \n",
       "20996  20996   \n",
       "20997  20997   \n",
       "20998  20998   \n",
       "20999  20999   \n",
       "\n",
       "                                                                                                                                                                                                                                                                                                                                                                                                                                                                                                                                                                                                                                                                                                                                                                                                                                                                                                                                                                                                                                                                                                                                                                                                                                                                                                                                                                                                                                                                                                                                                                                                                                                        sentence  \n",
       "0                                                                                                                                                                                                                                                                                                                                                                                                                                                                                                                                                                                                                                                                                                                                                                                                                                                                                                                                                                                                                                                                                                                                                                                                                                        Oxidative coupling of methane in the redox cyclic mode over the catalysts on the basis of CeO2 and La2O3. The 1% CeO 2 , 9% La 2 O 3 /SiO 2 and 2% CeO 2 , 8% La 2 O 3 /SiO 2 catalysts show reliable efficiency in the OCM reaction, as well as stable work in the redox cyclic mode. Selectivity to C 2 products remarkably increases if preliminary reduction of the catalyst by a small amount of hydrogen is used.  \n",
       "1                                                                                                                                                                                                                                                                                                                                                                                                                                                                                                                                                                                                                                                                                                                                                                                                                                             Tissue engineering: strategies, stem cells and scaffolds.. Tissue engineering scaffolds are designed to influence the physical, chemical and biological environment surrounding a cell population. In this review we focus on our own work and introduce a range of strategies and materials used for tissue engineering, including the sources of cells suitable for tissue engineering: embryonic stem cells, bone marrow-derived mesenchymal stem cells and cord-derived mesenchymal stem cells. Furthermore, we emphasize the developments in custom scaffold design and manufacture, highlighting laser sintering, supercritical carbon dioxide processing, growth factor incorporation and zoning, plasma modification of scaffold surfaces, and novel multi-use temperature-sensitive injectable materials.  \n",
       "2                                     Enhancement of Forced Convection Subcooled Film Boiling Heat Transfer Using Gas Sheet Collapse by Electric Field Application. Enhancement of forced-convection boiling heat transfer by electriceld is investigated experimentally. When a high-temperature horizontallament is immersed in water, a gas sheet is formed around and the abovelament due to liquid boiling, in the early immersion process. This gas-sheet markedly decreases the boiling cooling rate of thelament. Here, forced collapse of the gas sheet is attempted by imposing an electriceld to enhance the boiling cooling rate, In the experiments, a horizontal platinum wire of 0.5mm in diameter is immersed in pure water under atmospheric pressure, and a DC voltage up to 600V is applied between the wire surface and an electrode made of glass placed 10mm apart. The whole boiling curve is measured under different applied voltages and wire-falling velocities in 0.5 to 2.0m/s range, and at subcooling of 60 K. The experimental results show that the electric field is effective in promoting the disintegration of the gas sheet. Under the tested conditions, boiling cooling rate increased two-fold for an applied electriceld of 600 V/cm. This result shows that the use of an electriceld to break up the gas-sheet has resulted in a remarkable increase in the cooling rate at high superheats during initial cooling period, which is even greater than that used in the existing material manufacturing processes by the rapid cooling method, and therefore, this method may contribute to developing new materials.  \n",
       "3                                                                                                                                                                                                                                                                                                                                                                                                                                             Exploiting Sheep and Goats at the Late Lengyel Settlement in Racot 18. The excavations of Late Lengyel settlement in Racot 18 near Koscian are the most important archaeological achievements of Lech Czerniak in the first period of his outstanding academic career. This large settlement was made of numerous trapezoidal houses and several internal, external, and loam pits associated with them. The work at Racot 18 led to the discovery of a large assemblage of animal bones in an excellent state of preservation. The article examines the characteristics of the sheep and goat-based economy at the settlement of Racot 18. A comprehensive analysis of the caprine bones involved contextually driven faunal studies comprising taphonomy, separating sheep and goats, and kill-off patterns. The work implies a complex system of sheep and goat exploitation that includes the use of specialised harvesting strategies and the exploitation of different food resources, including meat and marrow and secondary products, most likely milk and wool. The significance of this work for recognizing the characteristics of Late Danubian agriculture in the Polish lowlands is also discussed.  \n",
       "4                                                                                                                                                                                                                                                                                                                                                                                                                                                                                                                                                                                                                                                                                                                                                                                    Simplified model for unsteady air cavities under ship hulls. The drag reduction technique involving air cavities under ship hulls is a promising energy-saving technology. Understanding the air cavity dynamics in unsteady conditions and developing methods for the air cavity system optimization are critically important for practical implementation of this technology. In this study, a potential-flow theory is applied for modeling the air cavities under solid walls in water flow with fluctuating pressure. The present modeling approach incorporates detachment of macroscopic air pockets from the cavity tail. For specific configurations considered in this article, it is found that a change of the rate of air supply into the cavity can partly mitigate degradation of the overall power savings by the air cavity system in unsteady conditions.  \n",
       "...                                                                                                                                                                                                                                                                                                                                                                                                                                                                                                                                                                                                                                                                                                                                                                                                                                                                                                                                                                                                                                                                                                                                                                                                                                                                                                                                                                                                                                                                                                                                                                                                                                                          ...  \n",
       "20995                                                                                                                                                                                                                                                                                                                                                                                                                                                                                                                                                                                                                                Rib stability: A way forward for safe coal extraction in India. Ensuring rib stability during pillar extraction is of prime importance in bord and pillar (B&P) method of underground coal mining with caving. Rib stability has been assessed here by way of assessing factor of safety (FOS), a ratio of the strength of rib to stress on it. Earlier formulations for rib stability when applied to case studies gave very low FOS value suggesting significant ground control problems, which were contrary to the field observations. This has necessitated the need to revisit the concept of rib stability. The stress coming on the rib is estimated with the use of numerical modeling technique using the FLAC3D software. The methodology of assessing rib-stability with the help of suggested rib-strength formulation has been validated at eight Indian coal mines. The outcome of this study finds relevance and importance in ensuring underground coal liquidation with improved safety and conservation.  \n",
       "20996  Accumulation Process of Distant Water Small Trawl in the North Pacific Ocean Estimated on Pocket-net Experiments.. The experimental operations were carried out by a distant water small trawler in the North Pacific Ocean to research accumulation process for walleye pollock Theragra chalcogramma and atka mackerel Pleurogrammus monopterygius in the trawl. Fourteen pocket-nets were attached from wings to the codend to investigate how fish accumulate between the net mouth and the codend. When the pocket-nets were attached over the trawl netting, the pocket-net catches were extremely low, suggesting a blocking effect by the trawl netting for both species. When, the trawl netting was removed from the pocket-net mouth, a catch of the pocket-net was relatively large at the rear part of the trawl for both species. The pocket-net attached at the side panels had a tendency to catch more fish than the pocket-net at the top panel. Two models to express accumulation process were developed from catch results and trawl shape assuming that no fish passed through mesh. Those are; Model 1, Density of fish become higher at the near space of the netting due to the accumulation along the netting; Model 2, Density of fish become higher uniformly in any cross section parts. Correlation between density of fish estimated by Model 1 and catch of the pocket-net was higher than the case of Model 2 for both species. This suggests that the accumulation process was mainly governed by trawl shape and both species were accumulated to the codend along the netting by the taper construction of the trawl.  \n",
       "20997                                                                                                                                                                                                Thyroid volume measured by ultrasonography and CT.. To evaluate measurements of thyroid volume by two different US methods and CT in a blinded design.Four observers evaluated 27 patients. Observer 1 used US and calculated thyroid volume based on recordings of cross-sections through the gland. Observer 2 used US and calculated the volume of each lobe as a rotation ellipsoid. Observers A and B used CT images and calculated thyroid volume based on recordings of cross-sections through the gland. All measurements were made twice.The median thyroid volume was 81 ml (range 7-470 ml) evaluated by CT. All three methods had fair reproducibility. When correlating the two different methods using US, an r of 0.837 was found. When correlating data from patients without intrathoracic goitre evaluated by US (Observer 1) and CT, r = 0.945. The method based on a rotation ellipsoid systematically produced smaller thyroid volumes than those of the cross-sectional method. Evaluation by US systematically produced smaller thyroid volumes than CT.Calculation of thyroid volume based on US recordings of cross-sectional areas is a reproducible method in patients without substernal goitre extension. The US method calculating thyroid volume as a rotation ellipsoid is less reproducible, especially in large goitres. Measurement of thyroid volume using CT should be preferred in goitres with substernal extension.  \n",
       "20998                                                                                                                                                                                                                                                                                                                                                                                                                                                                                                                                                                                                                                                                                                                                                                                                                                                                                                          Rethinking Leadership for the Public Sector. Leadership and management are best thought of as a matter of competencies. Or are they? The paper challenges the current orthodoxy in Australia on this question, and suggests that leadership and management need to be regarded as reflecting opposing values. The paper also distinguishes between charismatic and collective forms of leadership, and proposes the latter as likely to be of greater value in a public sector context. A challenge for public sector organisations is how to strike and maintain a suitable balance between management for ongoing operations and leadership for deep-reaching change. Strategies for developing collective leadership capability are suggested.  \n",
       "20999                                                                                                                                                                                                                                                                                                                                                                                                                                                                                                                                                                                                                                                                                                                                                                                                                                                                                       Referees' use of heuristics: the moderating impact of standard of competition.. The influence of players' standard of competition on referees' decision making was investigated. Standard of competition was examined by studying 30 handball matches, 15 at League and 15 at National standard. At both standards, we examined two types of refereeing decision (sporting and disciplinary) after transgressions that varied in ambiguity. The results indicated that referees made more lenient decisions at higher standards of competition, but this tendency depended on the type of decision being made and ambiguity in the offence. The hypothesis that referees use standard of competition as a judgemental heuristic, but in varying ways, was supported.  \n",
       "\n",
       "[21000 rows x 2 columns]"
      ],
      "text/html": [
       "<div>\n",
       "<style scoped>\n",
       "    .dataframe tbody tr th:only-of-type {\n",
       "        vertical-align: middle;\n",
       "    }\n",
       "\n",
       "    .dataframe tbody tr th {\n",
       "        vertical-align: top;\n",
       "    }\n",
       "\n",
       "    .dataframe thead th {\n",
       "        text-align: right;\n",
       "    }\n",
       "</style>\n",
       "<table border=\"1\" class=\"dataframe\">\n",
       "  <thead>\n",
       "    <tr style=\"text-align: right;\">\n",
       "      <th></th>\n",
       "      <th>id</th>\n",
       "      <th>sentence</th>\n",
       "    </tr>\n",
       "  </thead>\n",
       "  <tbody>\n",
       "    <tr>\n",
       "      <th>0</th>\n",
       "      <td>0</td>\n",
       "      <td>Oxidative coupling of methane in the redox cyclic mode over the catalysts on the basis of CeO2 and La2O3. The 1% CeO 2 , 9% La 2 O 3 /SiO 2 and 2% CeO 2 , 8% La 2 O 3 /SiO 2 catalysts show reliable efficiency in the OCM reaction, as well as stable work in the redox cyclic mode. Selectivity to C 2 products remarkably increases if preliminary reduction of the catalyst by a small amount of hydrogen is used.</td>\n",
       "    </tr>\n",
       "    <tr>\n",
       "      <th>1</th>\n",
       "      <td>1</td>\n",
       "      <td>Tissue engineering: strategies, stem cells and scaffolds.. Tissue engineering scaffolds are designed to influence the physical, chemical and biological environment surrounding a cell population. In this review we focus on our own work and introduce a range of strategies and materials used for tissue engineering, including the sources of cells suitable for tissue engineering: embryonic stem cells, bone marrow-derived mesenchymal stem cells and cord-derived mesenchymal stem cells. Furthermore, we emphasize the developments in custom scaffold design and manufacture, highlighting laser sintering, supercritical carbon dioxide processing, growth factor incorporation and zoning, plasma modification of scaffold surfaces, and novel multi-use temperature-sensitive injectable materials.</td>\n",
       "    </tr>\n",
       "    <tr>\n",
       "      <th>2</th>\n",
       "      <td>2</td>\n",
       "      <td>Enhancement of Forced Convection Subcooled Film Boiling Heat Transfer Using Gas Sheet Collapse by Electric Field Application. Enhancement of forced-convection boiling heat transfer by electriceld is investigated experimentally. When a high-temperature horizontallament is immersed in water, a gas sheet is formed around and the abovelament due to liquid boiling, in the early immersion process. This gas-sheet markedly decreases the boiling cooling rate of thelament. Here, forced collapse of the gas sheet is attempted by imposing an electriceld to enhance the boiling cooling rate, In the experiments, a horizontal platinum wire of 0.5mm in diameter is immersed in pure water under atmospheric pressure, and a DC voltage up to 600V is applied between the wire surface and an electrode made of glass placed 10mm apart. The whole boiling curve is measured under different applied voltages and wire-falling velocities in 0.5 to 2.0m/s range, and at subcooling of 60 K. The experimental results show that the electric field is effective in promoting the disintegration of the gas sheet. Under the tested conditions, boiling cooling rate increased two-fold for an applied electriceld of 600 V/cm. This result shows that the use of an electriceld to break up the gas-sheet has resulted in a remarkable increase in the cooling rate at high superheats during initial cooling period, which is even greater than that used in the existing material manufacturing processes by the rapid cooling method, and therefore, this method may contribute to developing new materials.</td>\n",
       "    </tr>\n",
       "    <tr>\n",
       "      <th>3</th>\n",
       "      <td>3</td>\n",
       "      <td>Exploiting Sheep and Goats at the Late Lengyel Settlement in Racot 18. The excavations of Late Lengyel settlement in Racot 18 near Koscian are the most important archaeological achievements of Lech Czerniak in the first period of his outstanding academic career. This large settlement was made of numerous trapezoidal houses and several internal, external, and loam pits associated with them. The work at Racot 18 led to the discovery of a large assemblage of animal bones in an excellent state of preservation. The article examines the characteristics of the sheep and goat-based economy at the settlement of Racot 18. A comprehensive analysis of the caprine bones involved contextually driven faunal studies comprising taphonomy, separating sheep and goats, and kill-off patterns. The work implies a complex system of sheep and goat exploitation that includes the use of specialised harvesting strategies and the exploitation of different food resources, including meat and marrow and secondary products, most likely milk and wool. The significance of this work for recognizing the characteristics of Late Danubian agriculture in the Polish lowlands is also discussed.</td>\n",
       "    </tr>\n",
       "    <tr>\n",
       "      <th>4</th>\n",
       "      <td>4</td>\n",
       "      <td>Simplified model for unsteady air cavities under ship hulls. The drag reduction technique involving air cavities under ship hulls is a promising energy-saving technology. Understanding the air cavity dynamics in unsteady conditions and developing methods for the air cavity system optimization are critically important for practical implementation of this technology. In this study, a potential-flow theory is applied for modeling the air cavities under solid walls in water flow with fluctuating pressure. The present modeling approach incorporates detachment of macroscopic air pockets from the cavity tail. For specific configurations considered in this article, it is found that a change of the rate of air supply into the cavity can partly mitigate degradation of the overall power savings by the air cavity system in unsteady conditions.</td>\n",
       "    </tr>\n",
       "    <tr>\n",
       "      <th>...</th>\n",
       "      <td>...</td>\n",
       "      <td>...</td>\n",
       "    </tr>\n",
       "    <tr>\n",
       "      <th>20995</th>\n",
       "      <td>20995</td>\n",
       "      <td>Rib stability: A way forward for safe coal extraction in India. Ensuring rib stability during pillar extraction is of prime importance in bord and pillar (B&amp;P) method of underground coal mining with caving. Rib stability has been assessed here by way of assessing factor of safety (FOS), a ratio of the strength of rib to stress on it. Earlier formulations for rib stability when applied to case studies gave very low FOS value suggesting significant ground control problems, which were contrary to the field observations. This has necessitated the need to revisit the concept of rib stability. The stress coming on the rib is estimated with the use of numerical modeling technique using the FLAC3D software. The methodology of assessing rib-stability with the help of suggested rib-strength formulation has been validated at eight Indian coal mines. The outcome of this study finds relevance and importance in ensuring underground coal liquidation with improved safety and conservation.</td>\n",
       "    </tr>\n",
       "    <tr>\n",
       "      <th>20996</th>\n",
       "      <td>20996</td>\n",
       "      <td>Accumulation Process of Distant Water Small Trawl in the North Pacific Ocean Estimated on Pocket-net Experiments.. The experimental operations were carried out by a distant water small trawler in the North Pacific Ocean to research accumulation process for walleye pollock Theragra chalcogramma and atka mackerel Pleurogrammus monopterygius in the trawl. Fourteen pocket-nets were attached from wings to the codend to investigate how fish accumulate between the net mouth and the codend. When the pocket-nets were attached over the trawl netting, the pocket-net catches were extremely low, suggesting a blocking effect by the trawl netting for both species. When, the trawl netting was removed from the pocket-net mouth, a catch of the pocket-net was relatively large at the rear part of the trawl for both species. The pocket-net attached at the side panels had a tendency to catch more fish than the pocket-net at the top panel. Two models to express accumulation process were developed from catch results and trawl shape assuming that no fish passed through mesh. Those are; Model 1, Density of fish become higher at the near space of the netting due to the accumulation along the netting; Model 2, Density of fish become higher uniformly in any cross section parts. Correlation between density of fish estimated by Model 1 and catch of the pocket-net was higher than the case of Model 2 for both species. This suggests that the accumulation process was mainly governed by trawl shape and both species were accumulated to the codend along the netting by the taper construction of the trawl.</td>\n",
       "    </tr>\n",
       "    <tr>\n",
       "      <th>20997</th>\n",
       "      <td>20997</td>\n",
       "      <td>Thyroid volume measured by ultrasonography and CT.. To evaluate measurements of thyroid volume by two different US methods and CT in a blinded design.Four observers evaluated 27 patients. Observer 1 used US and calculated thyroid volume based on recordings of cross-sections through the gland. Observer 2 used US and calculated the volume of each lobe as a rotation ellipsoid. Observers A and B used CT images and calculated thyroid volume based on recordings of cross-sections through the gland. All measurements were made twice.The median thyroid volume was 81 ml (range 7-470 ml) evaluated by CT. All three methods had fair reproducibility. When correlating the two different methods using US, an r of 0.837 was found. When correlating data from patients without intrathoracic goitre evaluated by US (Observer 1) and CT, r = 0.945. The method based on a rotation ellipsoid systematically produced smaller thyroid volumes than those of the cross-sectional method. Evaluation by US systematically produced smaller thyroid volumes than CT.Calculation of thyroid volume based on US recordings of cross-sectional areas is a reproducible method in patients without substernal goitre extension. The US method calculating thyroid volume as a rotation ellipsoid is less reproducible, especially in large goitres. Measurement of thyroid volume using CT should be preferred in goitres with substernal extension.</td>\n",
       "    </tr>\n",
       "    <tr>\n",
       "      <th>20998</th>\n",
       "      <td>20998</td>\n",
       "      <td>Rethinking Leadership for the Public Sector. Leadership and management are best thought of as a matter of competencies. Or are they? The paper challenges the current orthodoxy in Australia on this question, and suggests that leadership and management need to be regarded as reflecting opposing values. The paper also distinguishes between charismatic and collective forms of leadership, and proposes the latter as likely to be of greater value in a public sector context. A challenge for public sector organisations is how to strike and maintain a suitable balance between management for ongoing operations and leadership for deep-reaching change. Strategies for developing collective leadership capability are suggested.</td>\n",
       "    </tr>\n",
       "    <tr>\n",
       "      <th>20999</th>\n",
       "      <td>20999</td>\n",
       "      <td>Referees' use of heuristics: the moderating impact of standard of competition.. The influence of players' standard of competition on referees' decision making was investigated. Standard of competition was examined by studying 30 handball matches, 15 at League and 15 at National standard. At both standards, we examined two types of refereeing decision (sporting and disciplinary) after transgressions that varied in ambiguity. The results indicated that referees made more lenient decisions at higher standards of competition, but this tendency depended on the type of decision being made and ambiguity in the offence. The hypothesis that referees use standard of competition as a judgemental heuristic, but in varying ways, was supported.</td>\n",
       "    </tr>\n",
       "  </tbody>\n",
       "</table>\n",
       "<p>21000 rows × 2 columns</p>\n",
       "</div>"
      ]
     },
     "execution_count": 10,
     "metadata": {},
     "output_type": "execute_result"
    }
   ],
   "execution_count": 10
  },
  {
   "metadata": {
    "ExecuteTime": {
     "end_time": "2024-07-19T11:10:59.409027Z",
     "start_time": "2024-07-19T11:10:58.760692Z"
    }
   },
   "cell_type": "code",
   "source": [
    "# save df\n",
    "data_df.to_csv(os.path.join(params.DATA_DIR, 'data.csv'), index=False)"
   ],
   "id": "4f5b8fc036320f1b",
   "outputs": [],
   "execution_count": 11
  },
  {
   "metadata": {},
   "cell_type": "code",
   "outputs": [],
   "execution_count": null,
   "source": "",
   "id": "5838f74c2f6cb28b"
  }
 ],
 "metadata": {
  "kernelspec": {
   "display_name": "Python 3",
   "language": "python",
   "name": "python3"
  },
  "language_info": {
   "codemirror_mode": {
    "name": "ipython",
    "version": 2
   },
   "file_extension": ".py",
   "mimetype": "text/x-python",
   "name": "python",
   "nbconvert_exporter": "python",
   "pygments_lexer": "ipython2",
   "version": "2.7.6"
  }
 },
 "nbformat": 4,
 "nbformat_minor": 5
}
