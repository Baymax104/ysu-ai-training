{
 "cells": [
  {
   "metadata": {},
   "cell_type": "markdown",
   "source": [
    "# 将爬取的文本数据处理为ChatGLM3对话格式\n",
    "1. 获取文本：爬取的文本数据存储在MySQL中，连接MySQL获取文本数据，Text(id, title, content, type)\n",
    "2. 构造数据集：将type和title拼接起来作为prompt，划分训练集(80%)、验证集(20%)、测试集(20%)\n",
    "3. 格式处理：将数据集处理为ChatGLM3对话格式，保存为json文件"
   ],
   "id": "7fae941ff83862d6"
  },
  {
   "metadata": {},
   "cell_type": "markdown",
   "source": [
    "## 1. 获取文本\n",
    "爬取的文本数据存储在MySQL中，连接MySQL获取文本数据，Text(id, title, content, type)\n",
    "\n",
    "总记录数：4893"
   ],
   "id": "f4bed6c64fcbd0b8"
  },
  {
   "metadata": {
    "collapsed": true,
    "ExecuteTime": {
     "end_time": "2024-08-21T17:30:02.085077Z",
     "start_time": "2024-08-21T17:30:02.039797Z"
    }
   },
   "cell_type": "code",
   "source": "import pymysql",
   "id": "initial_id",
   "outputs": [],
   "execution_count": 2
  },
  {
   "metadata": {
    "ExecuteTime": {
     "end_time": "2024-08-21T17:30:02.770026Z",
     "start_time": "2024-08-21T17:30:02.764879Z"
    }
   },
   "cell_type": "code",
   "source": [
    "HOST = 'localhost'\n",
    "USER = 'root'\n",
    "PASSWORD = '020411'\n",
    "DATABASE = 'maxdb'"
   ],
   "id": "eb57b18c362f4dc6",
   "outputs": [],
   "execution_count": 3
  },
  {
   "metadata": {
    "ExecuteTime": {
     "end_time": "2024-08-21T17:30:05.113484Z",
     "start_time": "2024-08-21T17:30:05.090933Z"
    }
   },
   "cell_type": "code",
   "source": [
    "connection = pymysql.connect(host=HOST, user=USER, password=PASSWORD, db=DATABASE)\n",
    "cursor = connection.cursor()"
   ],
   "id": "536b435e68c08e21",
   "outputs": [],
   "execution_count": 4
  },
  {
   "metadata": {
    "ExecuteTime": {
     "end_time": "2024-08-21T17:30:06.187711Z",
     "start_time": "2024-08-21T17:30:06.012273Z"
    }
   },
   "cell_type": "code",
   "source": [
    "with connection, cursor:\n",
    "    cursor.execute('select title, content, type from text;')\n",
    "    results = cursor.fetchall()\n",
    "len(results)"
   ],
   "id": "7812c8839b1343a8",
   "outputs": [
    {
     "data": {
      "text/plain": [
       "4893"
      ]
     },
     "execution_count": 5,
     "metadata": {},
     "output_type": "execute_result"
    }
   ],
   "execution_count": 5
  },
  {
   "metadata": {},
   "cell_type": "markdown",
   "source": [
    "## 2. 构造数据集\n",
    "将type和title拼接起来作为prompt，划分训练集(80%)、验证集(20%)、测试集(20%)\n"
   ],
   "id": "885848e3d855cd81"
  },
  {
   "metadata": {
    "ExecuteTime": {
     "end_time": "2024-08-21T17:30:15.138449Z",
     "start_time": "2024-08-21T17:30:12.730743Z"
    }
   },
   "cell_type": "code",
   "source": [
    "import pandas as pd\n",
    "from sklearn.model_selection import train_test_split"
   ],
   "id": "16eb6b0cd21cbba0",
   "outputs": [],
   "execution_count": 6
  },
  {
   "metadata": {
    "ExecuteTime": {
     "end_time": "2024-08-21T17:30:18.214980Z",
     "start_time": "2024-08-21T17:30:18.197260Z"
    }
   },
   "cell_type": "code",
   "source": [
    "data = pd.DataFrame(results, columns=['title', 'content', 'type'])\n",
    "data.head()"
   ],
   "id": "1ee70a6da3488ca8",
   "outputs": [
    {
     "data": {
      "text/plain": [
       "                                               title  \\\n",
       "0  关于评选燕山大学2020/2021学年度优秀博士硕士学位论文暨推荐河北省优秀博士硕士学位论文的通知   \n",
       "1                        关于机械工程学院2021级本科生专业分流绩点加分的公示   \n",
       "2                         关于机械工程学院2021级大类招生专业分流结果的公示   \n",
       "3                           关于做好2022级硕士研究生与导师互选工作的通知   \n",
       "4       关于机械工程学院2019级本科生推荐免试研究生加分学生名单（创新创业竞赛获奖部分）的通知   \n",
       "\n",
       "                                             content  type  \n",
       "0  院属各系部、研究生导师及相关研究生：学位论文质量是衡量研究生培养质量的重要标准。为进一步鼓励...  通知公告  \n",
       "1  根据《机械工程学院2021级大类招生专业分流方案》相关要求，通过学生申报，学院核实，现对20...  通知公告  \n",
       "2  2021级机械类专业本科生、院属各单位：根据《机械工程学院2021级大类招生专业分流方案》的...  通知公告  \n",
       "3  院属各系部、硕士研究生导师及2022级硕士研究生：根据研究生院“关于做好2022级硕士研究生...  通知公告  \n",
       "4  机械工程学院相关同学：根据《燕山大学大学生创新创业竞赛组织与管理办法》（燕大校字[2021]...  通知公告  "
      ],
      "text/html": [
       "<div>\n",
       "<style scoped>\n",
       "    .dataframe tbody tr th:only-of-type {\n",
       "        vertical-align: middle;\n",
       "    }\n",
       "\n",
       "    .dataframe tbody tr th {\n",
       "        vertical-align: top;\n",
       "    }\n",
       "\n",
       "    .dataframe thead th {\n",
       "        text-align: right;\n",
       "    }\n",
       "</style>\n",
       "<table border=\"1\" class=\"dataframe\">\n",
       "  <thead>\n",
       "    <tr style=\"text-align: right;\">\n",
       "      <th></th>\n",
       "      <th>title</th>\n",
       "      <th>content</th>\n",
       "      <th>type</th>\n",
       "    </tr>\n",
       "  </thead>\n",
       "  <tbody>\n",
       "    <tr>\n",
       "      <th>0</th>\n",
       "      <td>关于评选燕山大学2020/2021学年度优秀博士硕士学位论文暨推荐河北省优秀博士硕士学位论文的通知</td>\n",
       "      <td>院属各系部、研究生导师及相关研究生：学位论文质量是衡量研究生培养质量的重要标准。为进一步鼓励...</td>\n",
       "      <td>通知公告</td>\n",
       "    </tr>\n",
       "    <tr>\n",
       "      <th>1</th>\n",
       "      <td>关于机械工程学院2021级本科生专业分流绩点加分的公示</td>\n",
       "      <td>根据《机械工程学院2021级大类招生专业分流方案》相关要求，通过学生申报，学院核实，现对20...</td>\n",
       "      <td>通知公告</td>\n",
       "    </tr>\n",
       "    <tr>\n",
       "      <th>2</th>\n",
       "      <td>关于机械工程学院2021级大类招生专业分流结果的公示</td>\n",
       "      <td>2021级机械类专业本科生、院属各单位：根据《机械工程学院2021级大类招生专业分流方案》的...</td>\n",
       "      <td>通知公告</td>\n",
       "    </tr>\n",
       "    <tr>\n",
       "      <th>3</th>\n",
       "      <td>关于做好2022级硕士研究生与导师互选工作的通知</td>\n",
       "      <td>院属各系部、硕士研究生导师及2022级硕士研究生：根据研究生院“关于做好2022级硕士研究生...</td>\n",
       "      <td>通知公告</td>\n",
       "    </tr>\n",
       "    <tr>\n",
       "      <th>4</th>\n",
       "      <td>关于机械工程学院2019级本科生推荐免试研究生加分学生名单（创新创业竞赛获奖部分）的通知</td>\n",
       "      <td>机械工程学院相关同学：根据《燕山大学大学生创新创业竞赛组织与管理办法》（燕大校字[2021]...</td>\n",
       "      <td>通知公告</td>\n",
       "    </tr>\n",
       "  </tbody>\n",
       "</table>\n",
       "</div>"
      ]
     },
     "execution_count": 7,
     "metadata": {},
     "output_type": "execute_result"
    }
   ],
   "execution_count": 7
  },
  {
   "metadata": {
    "ExecuteTime": {
     "end_time": "2024-08-21T17:30:33.983992Z",
     "start_time": "2024-08-21T17:30:33.297563Z"
    }
   },
   "cell_type": "code",
   "source": [
    "for idx, row in data.iterrows():\n",
    "    title = f\"{row['type']}#{row['title']}\"\n",
    "    data.loc[idx, 'title'] = title\n",
    "data.drop(columns=['type'], inplace=True)\n",
    "data.head()"
   ],
   "id": "9b262cef6556560a",
   "outputs": [
    {
     "data": {
      "text/plain": [
       "                                               title  \\\n",
       "0  通知公告#关于评选燕山大学2020/2021学年度优秀博士硕士学位论文暨推荐河北省优秀博士硕...   \n",
       "1                   通知公告#关于机械工程学院2021级本科生专业分流绩点加分的公示   \n",
       "2                    通知公告#关于机械工程学院2021级大类招生专业分流结果的公示   \n",
       "3                      通知公告#关于做好2022级硕士研究生与导师互选工作的通知   \n",
       "4  通知公告#关于机械工程学院2019级本科生推荐免试研究生加分学生名单（创新创业竞赛获奖部分）的通知   \n",
       "\n",
       "                                             content  \n",
       "0  院属各系部、研究生导师及相关研究生：学位论文质量是衡量研究生培养质量的重要标准。为进一步鼓励...  \n",
       "1  根据《机械工程学院2021级大类招生专业分流方案》相关要求，通过学生申报，学院核实，现对20...  \n",
       "2  2021级机械类专业本科生、院属各单位：根据《机械工程学院2021级大类招生专业分流方案》的...  \n",
       "3  院属各系部、硕士研究生导师及2022级硕士研究生：根据研究生院“关于做好2022级硕士研究生...  \n",
       "4  机械工程学院相关同学：根据《燕山大学大学生创新创业竞赛组织与管理办法》（燕大校字[2021]...  "
      ],
      "text/html": [
       "<div>\n",
       "<style scoped>\n",
       "    .dataframe tbody tr th:only-of-type {\n",
       "        vertical-align: middle;\n",
       "    }\n",
       "\n",
       "    .dataframe tbody tr th {\n",
       "        vertical-align: top;\n",
       "    }\n",
       "\n",
       "    .dataframe thead th {\n",
       "        text-align: right;\n",
       "    }\n",
       "</style>\n",
       "<table border=\"1\" class=\"dataframe\">\n",
       "  <thead>\n",
       "    <tr style=\"text-align: right;\">\n",
       "      <th></th>\n",
       "      <th>title</th>\n",
       "      <th>content</th>\n",
       "    </tr>\n",
       "  </thead>\n",
       "  <tbody>\n",
       "    <tr>\n",
       "      <th>0</th>\n",
       "      <td>通知公告#关于评选燕山大学2020/2021学年度优秀博士硕士学位论文暨推荐河北省优秀博士硕...</td>\n",
       "      <td>院属各系部、研究生导师及相关研究生：学位论文质量是衡量研究生培养质量的重要标准。为进一步鼓励...</td>\n",
       "    </tr>\n",
       "    <tr>\n",
       "      <th>1</th>\n",
       "      <td>通知公告#关于机械工程学院2021级本科生专业分流绩点加分的公示</td>\n",
       "      <td>根据《机械工程学院2021级大类招生专业分流方案》相关要求，通过学生申报，学院核实，现对20...</td>\n",
       "    </tr>\n",
       "    <tr>\n",
       "      <th>2</th>\n",
       "      <td>通知公告#关于机械工程学院2021级大类招生专业分流结果的公示</td>\n",
       "      <td>2021级机械类专业本科生、院属各单位：根据《机械工程学院2021级大类招生专业分流方案》的...</td>\n",
       "    </tr>\n",
       "    <tr>\n",
       "      <th>3</th>\n",
       "      <td>通知公告#关于做好2022级硕士研究生与导师互选工作的通知</td>\n",
       "      <td>院属各系部、硕士研究生导师及2022级硕士研究生：根据研究生院“关于做好2022级硕士研究生...</td>\n",
       "    </tr>\n",
       "    <tr>\n",
       "      <th>4</th>\n",
       "      <td>通知公告#关于机械工程学院2019级本科生推荐免试研究生加分学生名单（创新创业竞赛获奖部分）的通知</td>\n",
       "      <td>机械工程学院相关同学：根据《燕山大学大学生创新创业竞赛组织与管理办法》（燕大校字[2021]...</td>\n",
       "    </tr>\n",
       "  </tbody>\n",
       "</table>\n",
       "</div>"
      ]
     },
     "execution_count": 8,
     "metadata": {},
     "output_type": "execute_result"
    }
   ],
   "execution_count": 8
  },
  {
   "metadata": {
    "ExecuteTime": {
     "end_time": "2024-08-21T17:30:35.861717Z",
     "start_time": "2024-08-21T17:30:35.849352Z"
    }
   },
   "cell_type": "code",
   "source": [
    "data = data.sample(frac=1).reset_index(drop=True)\n",
    "train_data, test_data = train_test_split(data, test_size=0.2, random_state=200)\n",
    "train_data, valid_data = train_test_split(train_data, test_size=0.25, random_state=200)\n",
    "len(train_data), len(valid_data), len(test_data)"
   ],
   "id": "2629a276532e9ffb",
   "outputs": [
    {
     "data": {
      "text/plain": [
       "(2935, 979, 979)"
      ]
     },
     "execution_count": 9,
     "metadata": {},
     "output_type": "execute_result"
    }
   ],
   "execution_count": 9
  },
  {
   "metadata": {
    "ExecuteTime": {
     "end_time": "2024-08-21T17:30:37.257929Z",
     "start_time": "2024-08-21T17:30:37.248662Z"
    }
   },
   "cell_type": "code",
   "source": "train_data.head()",
   "id": "f8b590314490aed8",
   "outputs": [
    {
     "data": {
      "text/plain": [
       "                                       title  \\\n",
       "3649  新闻动态#我院学生在2014年全国大学生机械产品数字化设计大赛中获得优异成绩   \n",
       "3834            新闻动态#机械工程学院召开2021级本科生安全信息员会议   \n",
       "11                     新闻动态#学院成功举办第四届校园舞台剧大赛   \n",
       "1681                    新闻动态#我院成功举办暑期社会实践宣讲会   \n",
       "4504                  通知公告#机械工程学院教职工元旦联欢活动通知   \n",
       "\n",
       "                                                content  \n",
       "3649  2014年5月16日—18日，由国家级实验教学示范中心联席会机械学科组承办的“全国大学生机械...  \n",
       "3834  为进一步增强学生安全意识，提高学生信息处理能力，营造良好校园环境，机械工程学院2021级本科...  \n",
       "11    5月9日晚7：00，由机械工程学院团委举办的第四届校园舞台剧大赛——“携手文明 舞动奥运”—...  \n",
       "1681  大学生暑期社会实践活动宣讲会成功召开学生小组代表展示他们的暑期社会实践成果2013年10月1...  \n",
       "4504  为了感谢学院广大教职工一年以来的辛勤工作，学院近日将举行全院辞旧岁迎新年联欢活动，请全院教职...  "
      ],
      "text/html": [
       "<div>\n",
       "<style scoped>\n",
       "    .dataframe tbody tr th:only-of-type {\n",
       "        vertical-align: middle;\n",
       "    }\n",
       "\n",
       "    .dataframe tbody tr th {\n",
       "        vertical-align: top;\n",
       "    }\n",
       "\n",
       "    .dataframe thead th {\n",
       "        text-align: right;\n",
       "    }\n",
       "</style>\n",
       "<table border=\"1\" class=\"dataframe\">\n",
       "  <thead>\n",
       "    <tr style=\"text-align: right;\">\n",
       "      <th></th>\n",
       "      <th>title</th>\n",
       "      <th>content</th>\n",
       "    </tr>\n",
       "  </thead>\n",
       "  <tbody>\n",
       "    <tr>\n",
       "      <th>3649</th>\n",
       "      <td>新闻动态#我院学生在2014年全国大学生机械产品数字化设计大赛中获得优异成绩</td>\n",
       "      <td>2014年5月16日—18日，由国家级实验教学示范中心联席会机械学科组承办的“全国大学生机械...</td>\n",
       "    </tr>\n",
       "    <tr>\n",
       "      <th>3834</th>\n",
       "      <td>新闻动态#机械工程学院召开2021级本科生安全信息员会议</td>\n",
       "      <td>为进一步增强学生安全意识，提高学生信息处理能力，营造良好校园环境，机械工程学院2021级本科...</td>\n",
       "    </tr>\n",
       "    <tr>\n",
       "      <th>11</th>\n",
       "      <td>新闻动态#学院成功举办第四届校园舞台剧大赛</td>\n",
       "      <td>5月9日晚7：00，由机械工程学院团委举办的第四届校园舞台剧大赛——“携手文明 舞动奥运”—...</td>\n",
       "    </tr>\n",
       "    <tr>\n",
       "      <th>1681</th>\n",
       "      <td>新闻动态#我院成功举办暑期社会实践宣讲会</td>\n",
       "      <td>大学生暑期社会实践活动宣讲会成功召开学生小组代表展示他们的暑期社会实践成果2013年10月1...</td>\n",
       "    </tr>\n",
       "    <tr>\n",
       "      <th>4504</th>\n",
       "      <td>通知公告#机械工程学院教职工元旦联欢活动通知</td>\n",
       "      <td>为了感谢学院广大教职工一年以来的辛勤工作，学院近日将举行全院辞旧岁迎新年联欢活动，请全院教职...</td>\n",
       "    </tr>\n",
       "  </tbody>\n",
       "</table>\n",
       "</div>"
      ]
     },
     "execution_count": 10,
     "metadata": {},
     "output_type": "execute_result"
    }
   ],
   "execution_count": 10
  },
  {
   "metadata": {},
   "cell_type": "markdown",
   "source": [
    "## 3. 格式处理\n",
    "将数据集处理为ChatGLM3对话格式，保存为json文件\n",
    "\n",
    "使用仅微调对话能力的格式，ChatGLM3对话格式如下\n",
    "```json\n",
    "[\n",
    "  {\n",
    "    \"conversations\": [\n",
    "      {\n",
    "        \"role\": \"system\",\n",
    "        \"content\": \"<system prompt text>\"\n",
    "      },\n",
    "      {\n",
    "        \"role\": \"user\",\n",
    "        \"content\": \"<user prompt text>\"\n",
    "      },\n",
    "      {\n",
    "        \"role\": \"assistant\",\n",
    "        \"content\": \"<assistant response text>\"\n",
    "      }\n",
    "    ]\n",
    "  }\n",
    "]\n",
    "```"
   ],
   "id": "81ad68f073d8f4ca"
  },
  {
   "metadata": {
    "ExecuteTime": {
     "end_time": "2024-08-21T17:30:40.200712Z",
     "start_time": "2024-08-21T17:30:40.195171Z"
    }
   },
   "cell_type": "code",
   "source": [
    "import json\n",
    "from pathlib import Path"
   ],
   "id": "cc855b50bbeff3d",
   "outputs": [],
   "execution_count": 11
  },
  {
   "metadata": {
    "ExecuteTime": {
     "end_time": "2024-08-21T17:30:41.144649Z",
     "start_time": "2024-08-21T17:30:41.139934Z"
    }
   },
   "cell_type": "code",
   "source": [
    "train_file = Path('train.json')\n",
    "valid_file = Path('valid.json')\n",
    "test_file = Path('test.json')"
   ],
   "id": "72907359e1c8571b",
   "outputs": [],
   "execution_count": 12
  },
  {
   "metadata": {
    "ExecuteTime": {
     "end_time": "2024-08-21T17:31:50.861010Z",
     "start_time": "2024-08-21T17:31:50.855179Z"
    }
   },
   "cell_type": "code",
   "source": [
    "def transform_and_save(data, path):\n",
    "    conversations = []\n",
    "    for _, row in data.iterrows():\n",
    "        title = row['title']\n",
    "        content = row['content']\n",
    "        prompt = {'role': 'user', 'content': title}\n",
    "        answer = {'role': 'assistant', 'content': content}\n",
    "        conversations.append(prompt)\n",
    "        conversations.append(answer)\n",
    "    conversations = [{'conversations': conversations}]\n",
    "    with open(path, 'w', encoding='utf-8') as f:\n",
    "        json.dump(conversations, f, ensure_ascii=False, indent=4)"
   ],
   "id": "4e5d4892cbf1976f",
   "outputs": [],
   "execution_count": 15
  },
  {
   "metadata": {
    "ExecuteTime": {
     "end_time": "2024-08-21T17:31:52.625182Z",
     "start_time": "2024-08-21T17:31:52.070358Z"
    }
   },
   "cell_type": "code",
   "source": [
    "transform_and_save(train_data, train_file)\n",
    "transform_and_save(valid_data, valid_file)\n",
    "transform_and_save(test_data, test_file)"
   ],
   "id": "991a18c9f95ac2eb",
   "outputs": [],
   "execution_count": 16
  },
  {
   "metadata": {},
   "cell_type": "code",
   "outputs": [],
   "execution_count": null,
   "source": "",
   "id": "93644e33ed0408bd"
  }
 ],
 "metadata": {
  "kernelspec": {
   "display_name": "Python 3",
   "language": "python",
   "name": "python3"
  },
  "language_info": {
   "codemirror_mode": {
    "name": "ipython",
    "version": 2
   },
   "file_extension": ".py",
   "mimetype": "text/x-python",
   "name": "python",
   "nbconvert_exporter": "python",
   "pygments_lexer": "ipython2",
   "version": "2.7.6"
  }
 },
 "nbformat": 4,
 "nbformat_minor": 5
}
